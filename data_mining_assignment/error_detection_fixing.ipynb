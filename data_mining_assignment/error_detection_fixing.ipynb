{
 "cells": [
  {
   "cell_type": "code",
   "execution_count": 1,
   "id": "dbdd282f",
   "metadata": {},
   "outputs": [
    {
     "name": "stdout",
     "output_type": "stream",
     "text": [
      "Original Dataset:\n",
      "   ID     Name     Age   Salary Department\n",
      "0   1    Alice      25  50000.0         HR\n",
      "1   2      Bob  thirty  60000.0    Finance\n",
      "2   3  Charlie      28      NaN         IT\n",
      "3   4    David      42  75000.0    Finance\n",
      "4   5      Eva      35 -45000.0         HR\n",
      "5   6    Frank      29  65000.0         IT\n",
      "6   7    Grace      28  62000.0    Finance\n",
      "7   8     Hank     NaN  58000.0         HR\n",
      "8   9      Ivy      31  68000.0  Marketing\n",
      "9  10    Grace      28  62000.0    Finance\n"
     ]
    }
   ],
   "source": [
    "import pandas as pd\n",
    "\n",
    "# Load dataset\n",
    "file_path = \"D:/dm_assignment/datasets/error_dataset.csv\"\n",
    "df = pd.read_csv(file_path)\n",
    "\n",
    "print(\"Original Dataset:\")\n",
    "print(df)"
   ]
  },
  {
   "cell_type": "code",
   "execution_count": 2,
   "id": "0ed85122",
   "metadata": {},
   "outputs": [
    {
     "name": "stdout",
     "output_type": "stream",
     "text": [
      "\n",
      "Missing Values per Column:\n",
      "ID            0\n",
      "Name          0\n",
      "Age           2\n",
      "Salary        1\n",
      "Department    0\n",
      "dtype: int64\n",
      "\n",
      "Negative Salaries:\n",
      "   ID Name   Age   Salary Department\n",
      "4   5  Eva  35.0 -45000.0         HR\n",
      "\n",
      "Duplicate Rows:\n",
      "Empty DataFrame\n",
      "Columns: [ID, Name, Age, Salary, Department]\n",
      "Index: []\n"
     ]
    }
   ],
   "source": [
    "# Convert Age to numeric (invalid values become NaN)\n",
    "df['Age'] = pd.to_numeric(df['Age'], errors='coerce')\n",
    "\n",
    "# Convert Salary to numeric (invalid values become NaN)\n",
    "df['Salary'] = pd.to_numeric(df['Salary'], errors='coerce')\n",
    "\n",
    "# Detect missing values\n",
    "print(\"\\nMissing Values per Column:\")\n",
    "print(df.isnull().sum())\n",
    "\n",
    "# Detect negative salaries\n",
    "print(\"\\nNegative Salaries:\")\n",
    "print(df[df['Salary'] < 0])\n",
    "\n",
    "# Detect duplicate rows\n",
    "print(\"\\nDuplicate Rows:\")\n",
    "print(df[df.duplicated()])"
   ]
  },
  {
   "cell_type": "code",
   "execution_count": 3,
   "id": "fea9dc9f",
   "metadata": {},
   "outputs": [
    {
     "name": "stdout",
     "output_type": "stream",
     "text": [
      "\n",
      "Cleaned Dataset:\n",
      "   ID     Name    Age   Salary Department\n",
      "0   1    Alice  25.00  50000.0         HR\n",
      "1   2      Bob  30.75  60000.0    Finance\n",
      "2   3  Charlie  28.00  62000.0         IT\n",
      "3   4    David  42.00  75000.0    Finance\n",
      "4   5      Eva  35.00  45000.0         HR\n",
      "5   6    Frank  29.00  65000.0         IT\n",
      "6   7    Grace  28.00  62000.0    Finance\n",
      "7   8     Hank  30.75  58000.0         HR\n",
      "8   9      Ivy  31.00  68000.0  Marketing\n",
      "9  10    Grace  28.00  62000.0    Finance\n"
     ]
    },
    {
     "name": "stderr",
     "output_type": "stream",
     "text": [
      "C:\\Users\\USER\\AppData\\Local\\Temp\\ipykernel_19972\\524143707.py:2: FutureWarning: A value is trying to be set on a copy of a DataFrame or Series through chained assignment using an inplace method.\n",
      "The behavior will change in pandas 3.0. This inplace method will never work because the intermediate object on which we are setting values always behaves as a copy.\n",
      "\n",
      "For example, when doing 'df[col].method(value, inplace=True)', try using 'df.method({col: value}, inplace=True)' or df[col] = df[col].method(value) instead, to perform the operation inplace on the original object.\n",
      "\n",
      "\n",
      "  df['Age'].fillna(df['Age'].mean(), inplace=True)\n",
      "C:\\Users\\USER\\AppData\\Local\\Temp\\ipykernel_19972\\524143707.py:8: FutureWarning: A value is trying to be set on a copy of a DataFrame or Series through chained assignment using an inplace method.\n",
      "The behavior will change in pandas 3.0. This inplace method will never work because the intermediate object on which we are setting values always behaves as a copy.\n",
      "\n",
      "For example, when doing 'df[col].method(value, inplace=True)', try using 'df.method({col: value}, inplace=True)' or df[col] = df[col].method(value) instead, to perform the operation inplace on the original object.\n",
      "\n",
      "\n",
      "  df['Salary'].fillna(df['Salary'].median(), inplace=True)\n"
     ]
    }
   ],
   "source": [
    "# Fill missing ages with mean\n",
    "df['Age'].fillna(df['Age'].mean(), inplace=True)\n",
    "\n",
    "# Replace negative salaries with absolute values\n",
    "df['Salary'] = df['Salary'].apply(lambda x: abs(x) if pd.notnull(x) and x < 0 else x)\n",
    "\n",
    "# Fill missing salaries with median\n",
    "df['Salary'].fillna(df['Salary'].median(), inplace=True)\n",
    "\n",
    "# Drop duplicate rows\n",
    "df = df.drop_duplicates()\n",
    "\n",
    "print(\"\\nCleaned Dataset:\")\n",
    "print(df)"
   ]
  }
 ],
 "metadata": {
  "kernelspec": {
   "display_name": "Python 3",
   "language": "python",
   "name": "python3"
  },
  "language_info": {
   "codemirror_mode": {
    "name": "ipython",
    "version": 3
   },
   "file_extension": ".py",
   "mimetype": "text/x-python",
   "name": "python",
   "nbconvert_exporter": "python",
   "pygments_lexer": "ipython3",
   "version": "3.11.9"
  }
 },
 "nbformat": 4,
 "nbformat_minor": 5
}
